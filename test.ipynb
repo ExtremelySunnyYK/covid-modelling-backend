{
 "cells": [
  {
   "cell_type": "code",
   "execution_count": 4,
   "metadata": {},
   "outputs": [],
   "source": [
    "\n",
    "import numpy as np\n",
    "beta = np.array([[3114.7716564436582], [114.5365002969627], [-123.82672040039442]])"
   ]
  },
  {
   "cell_type": "code",
   "execution_count": 1,
   "metadata": {},
   "outputs": [],
   "source": [
    "# convert 11/3/21 to date time ordinal\n",
    "\n",
    "import datetime as dt\n",
    "date = dt.datetime.strptime('11/3/21', '%m/%d/%y')\n",
    "date = dt.datetime.toordinal(date)"
   ]
  },
  {
   "cell_type": "code",
   "execution_count": 5,
   "metadata": {},
   "outputs": [],
   "source": [
    "import pandas as pd\n",
    "df_feature = pd.read_csv('./data/df_feature.csv')\n",
    "del df_feature['Unnamed: 0']\n",
    "df_feature.to_csv('./data/df_feature1.csv', index=False)"
   ]
  },
  {
   "cell_type": "code",
   "execution_count": null,
   "metadata": {},
   "outputs": [],
   "source": []
  }
 ],
 "metadata": {
  "interpreter": {
   "hash": "5ee6629c881b172b5e5af483c5ed3bc057b022d0737ce3233f661940176fd065"
  },
  "kernelspec": {
   "display_name": "Python 3.8.5 64-bit ('env': venv)",
   "language": "python",
   "name": "python3"
  },
  "language_info": {
   "codemirror_mode": {
    "name": "ipython",
    "version": 3
   },
   "file_extension": ".py",
   "mimetype": "text/x-python",
   "name": "python",
   "nbconvert_exporter": "python",
   "pygments_lexer": "ipython3",
   "version": "3.8.5"
  },
  "orig_nbformat": 4
 },
 "nbformat": 4,
 "nbformat_minor": 2
}
